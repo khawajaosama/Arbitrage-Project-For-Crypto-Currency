{
 "cells": [
  {
   "cell_type": "code",
   "execution_count": 1,
   "metadata": {},
   "outputs": [],
   "source": [
    "import numpy as np\n",
    "import pandas as pd\n",
    "\n",
    "def adding_crypto():\n",
    "    list_of_crypto=[]\n",
    "    \n",
    "    \n",
    "    for i in np.arange(50):\n",
    "        enter=input('enter')\n",
    "        list_of_crypto.append(enter)\n",
    "    return list_of_crypto    \n",
    "\n",
    "    "
   ]
  },
  {
   "cell_type": "code",
   "execution_count": null,
   "metadata": {},
   "outputs": [],
   "source": [
    "adding_crypto()\n"
   ]
  },
  {
   "cell_type": "code",
   "execution_count": 6,
   "metadata": {},
   "outputs": [],
   "source": [
    "popular_coin=['btc',\n",
    " 'eth',\n",
    " 'xrp',\n",
    " 'bch',\n",
    " 'ada',\n",
    " 'ltc',\n",
    " 'neo',\n",
    " 'xlm',\n",
    " 'eos',\n",
    " 'miota',\n",
    " 'xem',\n",
    " 'dash',\n",
    " 'xmr',\n",
    " 'lsk',\n",
    " 'trx',\n",
    " 'etc',\n",
    " 'udst',\n",
    " 'qtum',\n",
    " 'btg',\n",
    " 'ven',\n",
    " 'icx',\n",
    " 'zec',\n",
    " 'xrb',\n",
    " 'omg']"
   ]
  },
  {
   "cell_type": "code",
   "execution_count": null,
   "metadata": {},
   "outputs": [],
   "source": [
    "np.len(popular_coin)\n"
   ]
  }
 ],
 "metadata": {
  "kernelspec": {
   "display_name": "Python 3",
   "language": "python",
   "name": "python3"
  },
  "language_info": {
   "codemirror_mode": {
    "name": "ipython",
    "version": 3
   },
   "file_extension": ".py",
   "mimetype": "text/x-python",
   "name": "python",
   "nbconvert_exporter": "python",
   "pygments_lexer": "ipython3",
   "version": "3.6.4"
  }
 },
 "nbformat": 4,
 "nbformat_minor": 2
}
