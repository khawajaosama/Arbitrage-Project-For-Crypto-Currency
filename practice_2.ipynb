{
 "cells": [
  {
   "cell_type": "code",
   "execution_count": 86,
   "metadata": {},
   "outputs": [],
   "source": [
    "import pandas as pd\n",
    "import requests\n",
    "import matplotlib.pyplot as plt"
   ]
  },
  {
   "cell_type": "code",
   "execution_count": 87,
   "metadata": {},
   "outputs": [
    {
     "name": "stdout",
     "output_type": "stream",
     "text": [
      "Enter Coin ID3808\n"
     ]
    }
   ],
   "source": [
    "id=input('Enter Coin ID')"
   ]
  },
  {
   "cell_type": "code",
   "execution_count": 88,
   "metadata": {},
   "outputs": [],
   "source": [
    "url_link='https://www.cryptocompare.com/api/data/coinsnapshotfullbyid/?id={}'.format(str(id))"
   ]
  },
  {
   "cell_type": "code",
   "execution_count": 89,
   "metadata": {},
   "outputs": [
    {
     "name": "stdout",
     "output_type": "stream",
     "text": [
      "https://www.cryptocompare.com/api/data/coinsnapshotfullbyid/?id=3808\n"
     ]
    }
   ],
   "source": [
    "print(url_link)"
   ]
  },
  {
   "cell_type": "code",
   "execution_count": 90,
   "metadata": {},
   "outputs": [
    {
     "data": {
      "text/plain": [
       "{'Algorithm': 'Scrypt',\n",
       " 'BaseAngularUrl': '/coins/ltc/',\n",
       " 'BlockNumber': 1381182,\n",
       " 'BlockReward': 25.0,\n",
       " 'BlockRewardReduction': '50%',\n",
       " 'BlockTime': 150,\n",
       " 'DangerTop': '',\n",
       " 'Description': '<p>Litecoin LTC - provides faster transaction confirmations (2.5 minutes on average) and uses a memory-hard, scrypt-based mining proof-of-work algorithm to target the regular computers and GPUs most people already have - which are its main differentials to Bitcoin. The Litecoin network is scheduled to produce 84 million currency units with a halving in reward every four years just like bitcoin. The coin was created by a Google employee, Charles Lee. Litecoin is in second spot to Bitcoin and has spawned numerous clones - however it has a solid base of support and dedicated development team.</p><p><span>The Litecoin project is currently maintained by a core group of 6 software developers, led by Charles Lee, with a large community that is growing in support.</span></p><p>In May 2017, Litecoin became the first of the Top 5 (By Market Cap) cryptocurrencies to implement the\\xa0SegWit scaling solution. Later in May of the same year, the first Lightning Network transaction was completed through litecoin, transferring 0.00000001 LTC from Zurich to San Francisco in under one second.</p>',\n",
       " 'DifficultyAdjustment': '2016 blocks',\n",
       " 'DocumentType': 'Webpagecoinp',\n",
       " 'Features': '<p>Litecoin is an open source software project released under the MIT/X11 license which gives you the power to run, modify, and copy the software and to distribute, at your option, modified copies of the software. The software is released in a transparent process that allows for independent verification of binaries and their corresponding source code.</p><p>Miners are currently awarded with 25 new litecoins per block, an amount which gets halved roughly every 4 years (every 840,000 blocks).\\xa0The Litecoin network is therefore scheduled to produce 84 million litecoins, which is 4 times as many currency units as Bitcoin.</p><p>The Litecoin blockchain is capable of handling higher transaction volume than its counterpart - Bitcoin. Due to more frequent block generation, the network supports more transactions without a need to modify the software in the future.\\xa0As a result, merchants get faster confirmation times, while still having ability to wait for more confirmations when selling bigger ticket items.</p>',\n",
       " 'H1Text': 'Litecoin (LTC)',\n",
       " 'Id': '3808',\n",
       " 'ImageUrl': '/media/19782/litecoin-logo.png',\n",
       " 'InfoTop': '',\n",
       " 'LastBlockExplorerUpdateTS': 1520458291,\n",
       " 'Name': 'Litecoin',\n",
       " 'NetHashesPerSecond': 174429296428367.9,\n",
       " 'PreviousTotalCoinsMined': 55527568.27703252,\n",
       " 'ProofType': 'PoW',\n",
       " 'Sponsor': {'ImageUrl': '/media/27010752/cryptoinvestorshow_logo_centre_100x65.jpg',\n",
       "  'Link': 'https://www.cryptoinvestor.show/?utm_source=cryptocompare&utm_medium=email&utm_campaign=cryptocompare_email',\n",
       "  'TextTop': 'Join us at'},\n",
       " 'StartDate': '13/10/2011',\n",
       " 'Symbol': 'LTC',\n",
       " 'Technology': '<p>- Faster transaction confirmations (2.5 minutes on average)</p><p>- Scrypt-based mining proof-of-work algorithm</p><p>- 84 million litecoins</p><p>- Higher transaction volume than Bitcoin</p><p>-\\xa0MIT/X11 license</p><p>\\xa0</p>',\n",
       " 'TotalCoinSupply': '84000000',\n",
       " 'TotalCoinsMined': 55527605.77703253,\n",
       " 'Twitter': '@litecoin',\n",
       " 'Url': '/coins/ltc/',\n",
       " 'WarningTop': '',\n",
       " 'Website': \"<a href='https://litecoin.com' target='_blank'>Litecoin</a>\",\n",
       " 'WebsiteUrl': 'https://litecoin.com'}"
      ]
     },
     "execution_count": 90,
     "metadata": {},
     "output_type": "execute_result"
    }
   ],
   "source": [
    "General_Data=(requests.get(url_link)).json()['Data']['General']\n",
    "General_Data"
   ]
  },
  {
   "cell_type": "code",
   "execution_count": 91,
   "metadata": {},
   "outputs": [],
   "source": [
    "coin_list=pd.DataFrame(General_Data)"
   ]
  },
  {
   "cell_type": "code",
   "execution_count": 92,
   "metadata": {},
   "outputs": [
    {
     "data": {
      "text/html": [
       "<div>\n",
       "<style scoped>\n",
       "    .dataframe tbody tr th:only-of-type {\n",
       "        vertical-align: middle;\n",
       "    }\n",
       "\n",
       "    .dataframe tbody tr th {\n",
       "        vertical-align: top;\n",
       "    }\n",
       "\n",
       "    .dataframe thead th {\n",
       "        text-align: right;\n",
       "    }\n",
       "</style>\n",
       "<table border=\"1\" class=\"dataframe\">\n",
       "  <thead>\n",
       "    <tr style=\"text-align: right;\">\n",
       "      <th></th>\n",
       "      <th>Algorithm</th>\n",
       "      <th>BaseAngularUrl</th>\n",
       "      <th>BlockNumber</th>\n",
       "      <th>BlockReward</th>\n",
       "      <th>BlockRewardReduction</th>\n",
       "      <th>BlockTime</th>\n",
       "      <th>DangerTop</th>\n",
       "      <th>Description</th>\n",
       "      <th>DifficultyAdjustment</th>\n",
       "      <th>DocumentType</th>\n",
       "      <th>...</th>\n",
       "      <th>StartDate</th>\n",
       "      <th>Symbol</th>\n",
       "      <th>Technology</th>\n",
       "      <th>TotalCoinSupply</th>\n",
       "      <th>TotalCoinsMined</th>\n",
       "      <th>Twitter</th>\n",
       "      <th>Url</th>\n",
       "      <th>WarningTop</th>\n",
       "      <th>Website</th>\n",
       "      <th>WebsiteUrl</th>\n",
       "    </tr>\n",
       "  </thead>\n",
       "  <tbody>\n",
       "    <tr>\n",
       "      <th>ImageUrl</th>\n",
       "      <td>Scrypt</td>\n",
       "      <td>/coins/ltc/</td>\n",
       "      <td>1381182</td>\n",
       "      <td>25.0</td>\n",
       "      <td>50%</td>\n",
       "      <td>150</td>\n",
       "      <td></td>\n",
       "      <td>&lt;p&gt;Litecoin LTC - provides faster transaction ...</td>\n",
       "      <td>2016 blocks</td>\n",
       "      <td>Webpagecoinp</td>\n",
       "      <td>...</td>\n",
       "      <td>13/10/2011</td>\n",
       "      <td>LTC</td>\n",
       "      <td>&lt;p&gt;- Faster transaction confirmations (2.5 min...</td>\n",
       "      <td>84000000</td>\n",
       "      <td>5.552761e+07</td>\n",
       "      <td>@litecoin</td>\n",
       "      <td>/coins/ltc/</td>\n",
       "      <td></td>\n",
       "      <td>&lt;a href='https://litecoin.com' target='_blank'...</td>\n",
       "      <td>https://litecoin.com</td>\n",
       "    </tr>\n",
       "    <tr>\n",
       "      <th>Link</th>\n",
       "      <td>Scrypt</td>\n",
       "      <td>/coins/ltc/</td>\n",
       "      <td>1381182</td>\n",
       "      <td>25.0</td>\n",
       "      <td>50%</td>\n",
       "      <td>150</td>\n",
       "      <td></td>\n",
       "      <td>&lt;p&gt;Litecoin LTC - provides faster transaction ...</td>\n",
       "      <td>2016 blocks</td>\n",
       "      <td>Webpagecoinp</td>\n",
       "      <td>...</td>\n",
       "      <td>13/10/2011</td>\n",
       "      <td>LTC</td>\n",
       "      <td>&lt;p&gt;- Faster transaction confirmations (2.5 min...</td>\n",
       "      <td>84000000</td>\n",
       "      <td>5.552761e+07</td>\n",
       "      <td>@litecoin</td>\n",
       "      <td>/coins/ltc/</td>\n",
       "      <td></td>\n",
       "      <td>&lt;a href='https://litecoin.com' target='_blank'...</td>\n",
       "      <td>https://litecoin.com</td>\n",
       "    </tr>\n",
       "    <tr>\n",
       "      <th>TextTop</th>\n",
       "      <td>Scrypt</td>\n",
       "      <td>/coins/ltc/</td>\n",
       "      <td>1381182</td>\n",
       "      <td>25.0</td>\n",
       "      <td>50%</td>\n",
       "      <td>150</td>\n",
       "      <td></td>\n",
       "      <td>&lt;p&gt;Litecoin LTC - provides faster transaction ...</td>\n",
       "      <td>2016 blocks</td>\n",
       "      <td>Webpagecoinp</td>\n",
       "      <td>...</td>\n",
       "      <td>13/10/2011</td>\n",
       "      <td>LTC</td>\n",
       "      <td>&lt;p&gt;- Faster transaction confirmations (2.5 min...</td>\n",
       "      <td>84000000</td>\n",
       "      <td>5.552761e+07</td>\n",
       "      <td>@litecoin</td>\n",
       "      <td>/coins/ltc/</td>\n",
       "      <td></td>\n",
       "      <td>&lt;a href='https://litecoin.com' target='_blank'...</td>\n",
       "      <td>https://litecoin.com</td>\n",
       "    </tr>\n",
       "  </tbody>\n",
       "</table>\n",
       "<p>3 rows × 31 columns</p>\n",
       "</div>"
      ],
      "text/plain": [
       "         Algorithm BaseAngularUrl  BlockNumber  BlockReward  \\\n",
       "ImageUrl    Scrypt    /coins/ltc/      1381182         25.0   \n",
       "Link        Scrypt    /coins/ltc/      1381182         25.0   \n",
       "TextTop     Scrypt    /coins/ltc/      1381182         25.0   \n",
       "\n",
       "         BlockRewardReduction  BlockTime DangerTop  \\\n",
       "ImageUrl                  50%        150             \n",
       "Link                      50%        150             \n",
       "TextTop                   50%        150             \n",
       "\n",
       "                                                Description  \\\n",
       "ImageUrl  <p>Litecoin LTC - provides faster transaction ...   \n",
       "Link      <p>Litecoin LTC - provides faster transaction ...   \n",
       "TextTop   <p>Litecoin LTC - provides faster transaction ...   \n",
       "\n",
       "         DifficultyAdjustment  DocumentType          ...            StartDate  \\\n",
       "ImageUrl          2016 blocks  Webpagecoinp          ...           13/10/2011   \n",
       "Link              2016 blocks  Webpagecoinp          ...           13/10/2011   \n",
       "TextTop           2016 blocks  Webpagecoinp          ...           13/10/2011   \n",
       "\n",
       "         Symbol                                         Technology  \\\n",
       "ImageUrl    LTC  <p>- Faster transaction confirmations (2.5 min...   \n",
       "Link        LTC  <p>- Faster transaction confirmations (2.5 min...   \n",
       "TextTop     LTC  <p>- Faster transaction confirmations (2.5 min...   \n",
       "\n",
       "         TotalCoinSupply TotalCoinsMined    Twitter          Url  WarningTop  \\\n",
       "ImageUrl        84000000    5.552761e+07  @litecoin  /coins/ltc/               \n",
       "Link            84000000    5.552761e+07  @litecoin  /coins/ltc/               \n",
       "TextTop         84000000    5.552761e+07  @litecoin  /coins/ltc/               \n",
       "\n",
       "                                                    Website  \\\n",
       "ImageUrl  <a href='https://litecoin.com' target='_blank'...   \n",
       "Link      <a href='https://litecoin.com' target='_blank'...   \n",
       "TextTop   <a href='https://litecoin.com' target='_blank'...   \n",
       "\n",
       "                    WebsiteUrl  \n",
       "ImageUrl  https://litecoin.com  \n",
       "Link      https://litecoin.com  \n",
       "TextTop   https://litecoin.com  \n",
       "\n",
       "[3 rows x 31 columns]"
      ]
     },
     "execution_count": 92,
     "metadata": {},
     "output_type": "execute_result"
    }
   ],
   "source": [
    "coin_list"
   ]
  },
  {
   "cell_type": "code",
   "execution_count": 93,
   "metadata": {},
   "outputs": [],
   "source": [
    "#Method for finding info"
   ]
  },
  {
   "cell_type": "code",
   "execution_count": null,
   "metadata": {},
   "outputs": [],
   "source": [
    "def Coin_Info(coins):\n",
    "    details=[]\n",
    "        try:\n",
    "            url_link='https://www.cryptocompare.com/api/data/coinsnapshotfullbyid/?id={}'.format(str(coin))\n",
    "            coin_info=requests.get(url_link).json()['Data']['General']\n",
    "            details.append(coin_info)\n",
    "        except:\n",
    "            print('hello')\n",
    "        return pd.DataFrame(details)"
   ]
  },
  {
   "cell_type": "code",
   "execution_count": null,
   "metadata": {},
   "outputs": [],
   "source": [
    "Coin_Info(3808)"
   ]
  },
  {
   "cell_type": "code",
   "execution_count": null,
   "metadata": {},
   "outputs": [],
   "source": []
  }
 ],
 "metadata": {
  "kernelspec": {
   "display_name": "Python 3",
   "language": "python",
   "name": "python3"
  },
  "language_info": {
   "codemirror_mode": {
    "name": "ipython",
    "version": 3
   },
   "file_extension": ".py",
   "mimetype": "text/x-python",
   "name": "python",
   "nbconvert_exporter": "python",
   "pygments_lexer": "ipython3",
   "version": "3.6.4"
  }
 },
 "nbformat": 4,
 "nbformat_minor": 2
}
