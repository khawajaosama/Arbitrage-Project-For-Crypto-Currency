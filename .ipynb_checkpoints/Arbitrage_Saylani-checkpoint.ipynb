{
 "cells": [
  {
   "cell_type": "code",
   "execution_count": 2,
   "metadata": {},
   "outputs": [],
   "source": [
    "import pandas as pd\n",
    "import requests\n",
    "from matplotlib import pyplot as plt\n",
    "import numpy as np"
   ]
  },
  {
   "cell_type": "code",
   "execution_count": 37,
   "metadata": {},
   "outputs": [],
   "source": [
    "url_link=('https://api.cryptonator.com/api/full/btc-usd')  #save the link to a variable \"url_link\""
   ]
  },
  {
   "cell_type": "code",
   "execution_count": 38,
   "metadata": {},
   "outputs": [],
   "source": [
    "markets=requests.get(url_link).json()['ticker']['markets']  #EXTRACTING THE MARKETS OF THE GIVEN COIN FROM DATA"
   ]
  },
  {
   "cell_type": "code",
   "execution_count": 39,
   "metadata": {},
   "outputs": [],
   "source": [
    "data=pd.DataFrame(markets)                                 #MAKING DATA FRAME OF MARKETS"
   ]
  },
  {
   "cell_type": "code",
   "execution_count": 40,
   "metadata": {},
   "outputs": [
    {
     "data": {
      "text/html": [
       "<div>\n",
       "<style scoped>\n",
       "    .dataframe tbody tr th:only-of-type {\n",
       "        vertical-align: middle;\n",
       "    }\n",
       "\n",
       "    .dataframe tbody tr th {\n",
       "        vertical-align: top;\n",
       "    }\n",
       "\n",
       "    .dataframe thead th {\n",
       "        text-align: right;\n",
       "    }\n",
       "</style>\n",
       "<table border=\"1\" class=\"dataframe\">\n",
       "  <thead>\n",
       "    <tr style=\"text-align: right;\">\n",
       "      <th></th>\n",
       "      <th>market</th>\n",
       "      <th>price</th>\n",
       "      <th>volume</th>\n",
       "    </tr>\n",
       "  </thead>\n",
       "  <tbody>\n",
       "    <tr>\n",
       "      <th>0</th>\n",
       "      <td>BitFinex</td>\n",
       "      <td>9736.90000000</td>\n",
       "      <td>83877.239929</td>\n",
       "    </tr>\n",
       "    <tr>\n",
       "      <th>1</th>\n",
       "      <td>Bitstamp</td>\n",
       "      <td>9762.82000000</td>\n",
       "      <td>31069.536792</td>\n",
       "    </tr>\n",
       "    <tr>\n",
       "      <th>2</th>\n",
       "      <td>Bittrex</td>\n",
       "      <td>9708.06649900</td>\n",
       "      <td>7679.702908</td>\n",
       "    </tr>\n",
       "    <tr>\n",
       "      <th>3</th>\n",
       "      <td>C-Cex</td>\n",
       "      <td>10569.98700000</td>\n",
       "      <td>3.786957</td>\n",
       "    </tr>\n",
       "    <tr>\n",
       "      <th>4</th>\n",
       "      <td>Cex.io</td>\n",
       "      <td>10062.80000000</td>\n",
       "      <td>2100.939850</td>\n",
       "    </tr>\n",
       "    <tr>\n",
       "      <th>5</th>\n",
       "      <td>Exmo</td>\n",
       "      <td>10338.60000000</td>\n",
       "      <td>1421.772640</td>\n",
       "    </tr>\n",
       "    <tr>\n",
       "      <th>6</th>\n",
       "      <td>Hitbtc</td>\n",
       "      <td>10104.43000000</td>\n",
       "      <td>5782.720000</td>\n",
       "    </tr>\n",
       "    <tr>\n",
       "      <th>7</th>\n",
       "      <td>Kraken</td>\n",
       "      <td>9760.00000000</td>\n",
       "      <td>16176.867612</td>\n",
       "    </tr>\n",
       "    <tr>\n",
       "      <th>8</th>\n",
       "      <td>Livecoin</td>\n",
       "      <td>10154.00002000</td>\n",
       "      <td>898.601866</td>\n",
       "    </tr>\n",
       "    <tr>\n",
       "      <th>9</th>\n",
       "      <td>Poloniex</td>\n",
       "      <td>9712.95751255</td>\n",
       "      <td>6322.836408</td>\n",
       "    </tr>\n",
       "    <tr>\n",
       "      <th>10</th>\n",
       "      <td>wexnz</td>\n",
       "      <td>9800.00000000</td>\n",
       "      <td>1302.547460</td>\n",
       "    </tr>\n",
       "    <tr>\n",
       "      <th>11</th>\n",
       "      <td>YoBit</td>\n",
       "      <td>10488.99999999</td>\n",
       "      <td>177.867833</td>\n",
       "    </tr>\n",
       "  </tbody>\n",
       "</table>\n",
       "</div>"
      ],
      "text/plain": [
       "      market           price        volume\n",
       "0   BitFinex   9736.90000000  83877.239929\n",
       "1   Bitstamp   9762.82000000  31069.536792\n",
       "2    Bittrex   9708.06649900   7679.702908\n",
       "3      C-Cex  10569.98700000      3.786957\n",
       "4     Cex.io  10062.80000000   2100.939850\n",
       "5       Exmo  10338.60000000   1421.772640\n",
       "6     Hitbtc  10104.43000000   5782.720000\n",
       "7     Kraken   9760.00000000  16176.867612\n",
       "8   Livecoin  10154.00002000    898.601866\n",
       "9   Poloniex   9712.95751255   6322.836408\n",
       "10     wexnz   9800.00000000   1302.547460\n",
       "11     YoBit  10488.99999999    177.867833"
      ]
     },
     "execution_count": 40,
     "metadata": {},
     "output_type": "execute_result"
    }
   ],
   "source": [
    "data                                                       #DISPLAYING THE DATA FRAME"
   ]
  },
  {
   "cell_type": "code",
   "execution_count": 41,
   "metadata": {},
   "outputs": [
    {
     "data": {
      "text/plain": [
       "array(['BitFinex', 'Bitstamp', 'Bittrex', 'C-Cex', 'Cex.io', 'Exmo',\n",
       "       'Hitbtc', 'Kraken', 'Livecoin', 'Poloniex', 'wexnz', 'YoBit'],\n",
       "      dtype=object)"
      ]
     },
     "execution_count": 41,
     "metadata": {},
     "output_type": "execute_result"
    }
   ],
   "source": [
    "labels=np.array(data['market'].values)                   #STORING THE MARKET NAMES IN LABELS ADDING .VALUES AT THE END TO GET VALUES  \n",
    "prices=np.array((data['price']).values,dtype='float64')  #AND CONVERTING THE IN ARRAYS USING NUMPY OF DATA TYPE FLOAT64\n",
    "volumes=np.array(data['volume'].values,dtype='float64')\n",
    "labels"
   ]
  },
  {
   "cell_type": "code",
   "execution_count": 42,
   "metadata": {},
   "outputs": [
    {
     "data": {
      "text/plain": [
       "array([ 9736.9       ,  9762.82      ,  9708.066499  , 10569.987     ,\n",
       "       10062.8       , 10338.6       , 10104.43      ,  9760.        ,\n",
       "       10154.00002   ,  9712.95751255,  9800.        , 10488.99999999])"
      ]
     },
     "execution_count": 42,
     "metadata": {},
     "output_type": "execute_result"
    }
   ],
   "source": [
    "prices"
   ]
  },
  {
   "cell_type": "code",
   "execution_count": 43,
   "metadata": {},
   "outputs": [
    {
     "data": {
      "text/plain": [
       "array([8.38772399e+04, 3.10695368e+04, 7.67970291e+03, 3.78695710e+00,\n",
       "       2.10093985e+03, 1.42177264e+03, 5.78272000e+03, 1.61768676e+04,\n",
       "       8.98601866e+02, 6.32283641e+03, 1.30254746e+03, 1.77867833e+02])"
      ]
     },
     "execution_count": 43,
     "metadata": {},
     "output_type": "execute_result"
    }
   ],
   "source": [
    "volumes"
   ]
  },
  {
   "cell_type": "code",
   "execution_count": 44,
   "metadata": {},
   "outputs": [
    {
     "data": {
      "image/png": "[encoded data removed]",
      "text/plain": [
       "<matplotlib.figure.Figure at 0xda7190>"
      ]
     },
     "metadata": {},
     "output_type": "display_data"
    }
   ],
   "source": [
    "plt.figure(num=None, figsize=(8, 6), dpi=100)     #ADJUSTING THE DIMESSNSION OF CHART\n",
    "plt.scatter(prices,volumes)                       #PLOTTING SCATTER PLOT \n",
    "\n",
    "for label,price,volume in zip(labels,prices,volumes):  #NOW LABELLING EACH VALUE BY ITERATION THROUGH FOR LOOP\n",
    "    plt.annotate(label,\n",
    "                xy=(price,volume),\n",
    "                xytext=(5,-5),\n",
    "                textcoords='offset points',fontsize=10)\n",
    "\n",
    "plt.xlabel('Price')\n",
    "plt.ylabel('Volume')\n",
    "plt.title('Chart For BTC')\n",
    "plt.show()"
   ]
  },
  {
   "cell_type": "code",
   "execution_count": 45,
   "metadata": {},
   "outputs": [],
   "source": [
    "highest_price=np.max(prices)                #FINDING THE MAXIMUM VALUE IN THE PRICE COULMN\n",
    "lowest_price=np.min(prices)                 #FINDING THE MINIMUM VALUE IN THE PRICE COULMN\n",
    "highest_market=labels[np.argmax(prices)]    #ARGMAX WILL GIVE THE INDEX OF LARGEST VALUE AND THEN IT WILL STORED\n",
    "lowest_market=labels[np.argmin(prices)]     #ARGMIN WILL GIVE THE INDEX OF SMALLEST VALUE AND THEN IT WILL STORED"
   ]
  },
  {
   "cell_type": "code",
   "execution_count": 46,
   "metadata": {},
   "outputs": [
    {
     "data": {
      "text/plain": [
       "'C-Cex'"
      ]
     },
     "execution_count": 46,
     "metadata": {},
     "output_type": "execute_result"
    }
   ],
   "source": [
    "highest_market"
   ]
  },
  {
   "cell_type": "code",
   "execution_count": 47,
   "metadata": {},
   "outputs": [
    {
     "data": {
      "text/plain": [
       "10569.987"
      ]
     },
     "execution_count": 47,
     "metadata": {},
     "output_type": "execute_result"
    }
   ],
   "source": [
    "highest_price"
   ]
  },
  {
   "cell_type": "code",
   "execution_count": 48,
   "metadata": {},
   "outputs": [
    {
     "data": {
      "text/plain": [
       "'Bittrex'"
      ]
     },
     "execution_count": 48,
     "metadata": {},
     "output_type": "execute_result"
    }
   ],
   "source": [
    "lowest_market"
   ]
  },
  {
   "cell_type": "code",
   "execution_count": 49,
   "metadata": {},
   "outputs": [
    {
     "data": {
      "text/plain": [
       "9708.066499"
      ]
     },
     "execution_count": 49,
     "metadata": {},
     "output_type": "execute_result"
    }
   ],
   "source": [
    "lowest_price"
   ]
  },
  {
   "cell_type": "code",
   "execution_count": 50,
   "metadata": {},
   "outputs": [],
   "source": [
    "difference=np.float64(highest_price)-np.float64(lowest_price)   #IT WILL GIVE THE DIFFERENCE OR THE PROFIT"
   ]
  },
  {
   "cell_type": "code",
   "execution_count": 51,
   "metadata": {},
   "outputs": [
    {
     "data": {
      "text/plain": [
       "861.9205009999987"
      ]
     },
     "execution_count": 51,
     "metadata": {},
     "output_type": "execute_result"
    }
   ],
   "source": [
    "difference"
   ]
  },
  {
   "cell_type": "code",
   "execution_count": 52,
   "metadata": {},
   "outputs": [],
   "source": [
    "#    IT WILL BE GREAT TO DESIGN A FUNCTION FOR THE PROGRAM INSTEAD OF WRITING IT IN INDIVIDUAL CELLS\n",
    "#    SUMMING ALL THE ABOVE CODE IN THE ARBITRAGE FUNCTION"
   ]
  },
  {
   "cell_type": "code",
   "execution_count": 1,
   "metadata": {},
   "outputs": [
    {
     "name": "stdout",
     "output_type": "stream",
     "text": [
      "Enter Coin Symbol: btc\n"
     ]
    },
    {
     "ename": "NameError",
     "evalue": "name 'requests' is not defined",
     "output_type": "error",
     "traceback": [
      "\u001b[1;31m---------------------------------------------------------------------------\u001b[0m",
      "\u001b[1;31mNameError\u001b[0m                                 Traceback (most recent call last)",
      "\u001b[1;32m<ipython-input-1-dcf2c2879df8>\u001b[0m in \u001b[0;36m<module>\u001b[1;34m()\u001b[0m\n\u001b[0;32m     35\u001b[0m     \u001b[0mprint\u001b[0m\u001b[1;33m(\u001b[0m\u001b[1;34m'*And can sell at {} at {} dollar'\u001b[0m\u001b[1;33m.\u001b[0m\u001b[0mformat\u001b[0m\u001b[1;33m(\u001b[0m\u001b[0mhighest_market\u001b[0m\u001b[1;33m,\u001b[0m\u001b[0mhighest_price\u001b[0m\u001b[1;33m)\u001b[0m\u001b[1;33m)\u001b[0m\u001b[1;33m\u001b[0m\u001b[0m\n\u001b[0;32m     36\u001b[0m     \u001b[0mprint\u001b[0m\u001b[1;33m(\u001b[0m\u001b[1;34m'*And can get a profit of {} dollar at {}%'\u001b[0m\u001b[1;33m.\u001b[0m\u001b[0mformat\u001b[0m\u001b[1;33m(\u001b[0m\u001b[0mstr\u001b[0m\u001b[1;33m(\u001b[0m\u001b[0mdifference\u001b[0m\u001b[1;33m)\u001b[0m\u001b[1;33m)\u001b[0m\u001b[1;33m)\u001b[0m\u001b[1;33m\u001b[0m\u001b[0m\n\u001b[1;32m---> 37\u001b[1;33m \u001b[0mArbitrage_of_Coin\u001b[0m\u001b[1;33m(\u001b[0m\u001b[1;33m)\u001b[0m\u001b[1;33m\u001b[0m\u001b[0m\n\u001b[0m",
      "\u001b[1;32m<ipython-input-1-dcf2c2879df8>\u001b[0m in \u001b[0;36mArbitrage_of_Coin\u001b[1;34m()\u001b[0m\n\u001b[0;32m      4\u001b[0m     \u001b[0murl_link\u001b[0m\u001b[1;33m=\u001b[0m\u001b[1;33m(\u001b[0m\u001b[1;34m'https://api.cryptonator.com/api/full/{}-usd'\u001b[0m\u001b[1;33m.\u001b[0m\u001b[0mformat\u001b[0m\u001b[1;33m(\u001b[0m\u001b[0mcoin_symbol\u001b[0m\u001b[1;33m)\u001b[0m\u001b[1;33m)\u001b[0m\u001b[1;33m\u001b[0m\u001b[0m\n\u001b[0;32m      5\u001b[0m     \u001b[1;32mtry\u001b[0m\u001b[1;33m:\u001b[0m\u001b[1;33m\u001b[0m\u001b[0m\n\u001b[1;32m----> 6\u001b[1;33m         \u001b[0mmarkets\u001b[0m\u001b[1;33m=\u001b[0m\u001b[0mrequests\u001b[0m\u001b[1;33m.\u001b[0m\u001b[0mget\u001b[0m\u001b[1;33m(\u001b[0m\u001b[0murl_link\u001b[0m\u001b[1;33m)\u001b[0m\u001b[1;33m.\u001b[0m\u001b[0mjson\u001b[0m\u001b[1;33m(\u001b[0m\u001b[1;33m)\u001b[0m\u001b[1;33m[\u001b[0m\u001b[1;34m'ticker'\u001b[0m\u001b[1;33m]\u001b[0m\u001b[1;33m[\u001b[0m\u001b[1;34m'markets'\u001b[0m\u001b[1;33m]\u001b[0m\u001b[1;33m\u001b[0m\u001b[0m\n\u001b[0m\u001b[0;32m      7\u001b[0m     \u001b[1;32mexcept\u001b[0m \u001b[1;33m(\u001b[0m\u001b[0mKeyError\u001b[0m\u001b[1;33m,\u001b[0m\u001b[0mValueError\u001b[0m\u001b[1;33m,\u001b[0m\u001b[0mTypeError\u001b[0m\u001b[1;33m)\u001b[0m\u001b[1;33m:\u001b[0m\u001b[1;33m\u001b[0m\u001b[0m\n\u001b[0;32m      8\u001b[0m         \u001b[0mprint\u001b[0m\u001b[1;33m(\u001b[0m\u001b[1;34m\"Data Not not found\"\u001b[0m\u001b[1;33m)\u001b[0m\u001b[1;33m\u001b[0m\u001b[0m\n",
      "\u001b[1;31mNameError\u001b[0m: name 'requests' is not defined"
     ]
    }
   ],
   "source": [
    "def Arbitrage_of_Coin():\n",
    "    coin_symbol=input(\"Enter Coin Symbol: \").lower()\n",
    "    \n",
    "    url_link=('https://api.cryptonator.com/api/full/{}-usd'.format(coin_symbol))\n",
    "    try:\n",
    "        markets=requests.get(url_link).json()['ticker']['markets']\n",
    "    except (KeyError,ValueError,TypeError):\n",
    "        print(\"Data Not not found\")\n",
    "        print('Enter Correct Symbol')\n",
    "        Arbitrage_of_Coin()\n",
    "    \n",
    "    data=pd.DataFrame(markets)\n",
    "    labels=np.array(data['market'].values)\n",
    "    prices=np.array((data['price']).values,dtype='float64')\n",
    "    volumes=np.array(data['volume'].values,dtype='float64')\n",
    "    plt.figure(num=None, figsize=(8, 6), dpi=100)\n",
    "    plt.scatter(prices,volumes)\n",
    "\n",
    "    for label,price,volume in zip(labels,prices,volumes):\n",
    "        plt.annotate(label,\n",
    "                    xy=(price,volume),\n",
    "                    xytext=(5,-5),\n",
    "                    textcoords='offset points',fontsize=10)\n",
    "    plt.xlabel('Price')\n",
    "    plt.ylabel('Volume')\n",
    "    plt.title('Arbitrage Chart For {}'.format(coin_symbol.upper()))\n",
    "    plt.show()\n",
    "    highest_price=np.max(prices)\n",
    "    lowest_price=np.min(prices)\n",
    "    highest_market=labels[np.argmax(prices)]\n",
    "    lowest_market=labels[np.argmin(prices)]\n",
    "    difference=np.float64(highest_price)-np.float64(lowest_price)\n",
    "    percentage=(difference/lowest_price)*100\n",
    "    print('*You can buy {} from {} at {} dollar'.format(coin_symbol.upper(),lowest_market,lowest_price))\n",
    "    print('*And can sell at {} at {} dollar'.format(highest_market,highest_price))\n",
    "    print('*And can get a profit of {} dollar at {}%'.format(str(difference)))\n",
    "Arbitrage_of_Coin()"
   ]
  },
  {
   "cell_type": "code",
   "execution_count": null,
   "metadata": {},
   "outputs": [],
   "source": []
  }
 ],
 "metadata": {
  "kernelspec": {
   "display_name": "Python 3",
   "language": "python",
   "name": "python3"
  },
  "language_info": {
   "codemirror_mode": {
    "name": "ipython",
    "version": 3
   },
   "file_extension": ".py",
   "mimetype": "text/x-python",
   "name": "python",
   "nbconvert_exporter": "python",
   "pygments_lexer": "ipython3",
   "version": "3.6.4"
  }
 },
 "nbformat": 4,
 "nbformat_minor": 2
}
