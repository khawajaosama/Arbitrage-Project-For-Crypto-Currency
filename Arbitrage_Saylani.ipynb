{
 "cells": [
  {
   "cell_type": "code",
   "execution_count": 4,
   "metadata": {},
   "outputs": [],
   "source": [
    "import pandas as pd\n",
    "import requests\n",
    "from matplotlib import pyplot as plt\n",
    "import numpy as np"
   ]
  },
  {
   "cell_type": "code",
   "execution_count": 5,
   "metadata": {},
   "outputs": [],
   "source": [
    "url_link=('https://api.cryptonator.com/api/full/btc-usd')  #save the link to a variable \"url_link\""
   ]
  },
  {
   "cell_type": "code",
   "execution_count": 6,
   "metadata": {},
   "outputs": [],
   "source": [
    "markets=requests.get(url_link).json()['ticker']['markets']  #EXTRACTING THE MARKETS OF THE GIVEN COIN FROM DATA"
   ]
  },
  {
   "cell_type": "code",
   "execution_count": 7,
   "metadata": {},
   "outputs": [],
   "source": [
    "data=pd.DataFrame(markets)                                 #MAKING DATA FRAME OF MARKETS"
   ]
  },
  {
   "cell_type": "code",
   "execution_count": 8,
   "metadata": {},
   "outputs": [
    {
     "data": {
      "text/html": [
       "<div>\n",
       "<style scoped>\n",
       "    .dataframe tbody tr th:only-of-type {\n",
       "        vertical-align: middle;\n",
       "    }\n",
       "\n",
       "    .dataframe tbody tr th {\n",
       "        vertical-align: top;\n",
       "    }\n",
       "\n",
       "    .dataframe thead th {\n",
       "        text-align: right;\n",
       "    }\n",
       "</style>\n",
       "<table border=\"1\" class=\"dataframe\">\n",
       "  <thead>\n",
       "    <tr style=\"text-align: right;\">\n",
       "      <th></th>\n",
       "      <th>market</th>\n",
       "      <th>price</th>\n",
       "      <th>volume</th>\n",
       "    </tr>\n",
       "  </thead>\n",
       "  <tbody>\n",
       "    <tr>\n",
       "      <th>0</th>\n",
       "      <td>BitFinex</td>\n",
       "      <td>9170.00000000</td>\n",
       "      <td>53896.593233</td>\n",
       "    </tr>\n",
       "    <tr>\n",
       "      <th>1</th>\n",
       "      <td>Bitstamp</td>\n",
       "      <td>9182.80000000</td>\n",
       "      <td>12630.679583</td>\n",
       "    </tr>\n",
       "    <tr>\n",
       "      <th>2</th>\n",
       "      <td>Bittrex</td>\n",
       "      <td>9200.00000000</td>\n",
       "      <td>4283.515111</td>\n",
       "    </tr>\n",
       "    <tr>\n",
       "      <th>3</th>\n",
       "      <td>C-Cex</td>\n",
       "      <td>9850.00000000</td>\n",
       "      <td>1.335154</td>\n",
       "    </tr>\n",
       "    <tr>\n",
       "      <th>4</th>\n",
       "      <td>Cex.io</td>\n",
       "      <td>9417.00000000</td>\n",
       "      <td>1581.908589</td>\n",
       "    </tr>\n",
       "    <tr>\n",
       "      <th>5</th>\n",
       "      <td>Exmo</td>\n",
       "      <td>9594.00000000</td>\n",
       "      <td>1250.594031</td>\n",
       "    </tr>\n",
       "    <tr>\n",
       "      <th>6</th>\n",
       "      <td>Hitbtc</td>\n",
       "      <td>9360.85000000</td>\n",
       "      <td>5340.030000</td>\n",
       "    </tr>\n",
       "    <tr>\n",
       "      <th>7</th>\n",
       "      <td>Kraken</td>\n",
       "      <td>9172.80000000</td>\n",
       "      <td>10177.772199</td>\n",
       "    </tr>\n",
       "    <tr>\n",
       "      <th>8</th>\n",
       "      <td>Livecoin</td>\n",
       "      <td>9601.00000000</td>\n",
       "      <td>1365.415642</td>\n",
       "    </tr>\n",
       "    <tr>\n",
       "      <th>9</th>\n",
       "      <td>Poloniex</td>\n",
       "      <td>9169.99999999</td>\n",
       "      <td>3477.916399</td>\n",
       "    </tr>\n",
       "    <tr>\n",
       "      <th>10</th>\n",
       "      <td>wexnz</td>\n",
       "      <td>9296.38000000</td>\n",
       "      <td>892.038080</td>\n",
       "    </tr>\n",
       "    <tr>\n",
       "      <th>11</th>\n",
       "      <td>YoBit</td>\n",
       "      <td>9886.11712000</td>\n",
       "      <td>117.944337</td>\n",
       "    </tr>\n",
       "  </tbody>\n",
       "</table>\n",
       "</div>"
      ],
      "text/plain": [
       "      market          price        volume\n",
       "0   BitFinex  9170.00000000  53896.593233\n",
       "1   Bitstamp  9182.80000000  12630.679583\n",
       "2    Bittrex  9200.00000000   4283.515111\n",
       "3      C-Cex  9850.00000000      1.335154\n",
       "4     Cex.io  9417.00000000   1581.908589\n",
       "5       Exmo  9594.00000000   1250.594031\n",
       "6     Hitbtc  9360.85000000   5340.030000\n",
       "7     Kraken  9172.80000000  10177.772199\n",
       "8   Livecoin  9601.00000000   1365.415642\n",
       "9   Poloniex  9169.99999999   3477.916399\n",
       "10     wexnz  9296.38000000    892.038080\n",
       "11     YoBit  9886.11712000    117.944337"
      ]
     },
     "execution_count": 8,
     "metadata": {},
     "output_type": "execute_result"
    }
   ],
   "source": [
    "data                                                       #DISPLAYING THE DATA FRAME"
   ]
  },
  {
   "cell_type": "code",
   "execution_count": 9,
   "metadata": {},
   "outputs": [
    {
     "data": {
      "text/plain": [
       "array(['BitFinex', 'Bitstamp', 'Bittrex', 'C-Cex', 'Cex.io', 'Exmo',\n",
       "       'Hitbtc', 'Kraken', 'Livecoin', 'Poloniex', 'wexnz', 'YoBit'],\n",
       "      dtype=object)"
      ]
     },
     "execution_count": 9,
     "metadata": {},
     "output_type": "execute_result"
    }
   ],
   "source": [
    "labels=np.array(data['market'].values)                   #STORING THE MARKET NAMES IN LABELS ADDING .VALUES AT THE END TO GET VALUES  \n",
    "prices=np.array((data['price']).values,dtype='float64')  #AND CONVERTING THE IN ARRAYS USING NUMPY OF DATA TYPE FLOAT64\n",
    "volumes=np.array(data['volume'].values,dtype='float64')\n",
    "labels"
   ]
  },
  {
   "cell_type": "code",
   "execution_count": 10,
   "metadata": {},
   "outputs": [
    {
     "data": {
      "text/plain": [
       "array([9170.        , 9182.8       , 9200.        , 9850.        ,\n",
       "       9417.        , 9594.        , 9360.85      , 9172.8       ,\n",
       "       9601.        , 9169.99999999, 9296.38      , 9886.11712   ])"
      ]
     },
     "execution_count": 10,
     "metadata": {},
     "output_type": "execute_result"
    }
   ],
   "source": [
    "prices"
   ]
  },
  {
   "cell_type": "code",
   "execution_count": 11,
   "metadata": {},
   "outputs": [
    {
     "data": {
      "text/plain": [
       "array([5.38965932e+04, 1.26306796e+04, 4.28351511e+03, 1.33515442e+00,\n",
       "       1.58190859e+03, 1.25059403e+03, 5.34003000e+03, 1.01777722e+04,\n",
       "       1.36541564e+03, 3.47791640e+03, 8.92038080e+02, 1.17944337e+02])"
      ]
     },
     "execution_count": 11,
     "metadata": {},
     "output_type": "execute_result"
    }
   ],
   "source": [
    "volumes"
   ]
  },
  {
   "cell_type": "code",
   "execution_count": 12,
   "metadata": {},
   "outputs": [
    {
     "data": {
      "image/png": "[encoded data removed]",
      "text/plain": [
       "<matplotlib.figure.Figure at 0xba55cb0>"
      ]
     },
     "metadata": {},
     "output_type": "display_data"
    }
   ],
   "source": [
    "plt.figure(num=None, figsize=(8, 6), dpi=100)     #ADJUSTING THE DIMESSNSION OF CHART\n",
    "plt.scatter(prices,volumes)                       #PLOTTING SCATTER PLOT \n",
    "\n",
    "for label,price,volume in zip(labels,prices,volumes):  #NOW LABELLING EACH VALUE BY ITERATION THROUGH FOR LOOP\n",
    "    plt.annotate(label,\n",
    "                xy=(price,volume),\n",
    "                xytext=(5,-5),\n",
    "                textcoords='offset points',fontsize=10)\n",
    "\n",
    "plt.xlabel('Price')\n",
    "plt.ylabel('Volume')\n",
    "plt.title('Chart For BTC')\n",
    "plt.show()"
   ]
  },
  {
   "cell_type": "code",
   "execution_count": 13,
   "metadata": {},
   "outputs": [],
   "source": [
    "highest_price=np.max(prices)                #FINDING THE MAXIMUM VALUE IN THE PRICE COULMN\n",
    "lowest_price=np.min(prices)                 #FINDING THE MINIMUM VALUE IN THE PRICE COULMN\n",
    "highest_market=labels[np.argmax(prices)]    #ARGMAX WILL GIVE THE INDEX OF LARGEST VALUE AND THEN IT WILL STORED\n",
    "lowest_market=labels[np.argmin(prices)]     #ARGMIN WILL GIVE THE INDEX OF SMALLEST VALUE AND THEN IT WILL STORED"
   ]
  },
  {
   "cell_type": "code",
   "execution_count": 14,
   "metadata": {},
   "outputs": [
    {
     "data": {
      "text/plain": [
       "'YoBit'"
      ]
     },
     "execution_count": 14,
     "metadata": {},
     "output_type": "execute_result"
    }
   ],
   "source": [
    "highest_market"
   ]
  },
  {
   "cell_type": "code",
   "execution_count": 15,
   "metadata": {},
   "outputs": [
    {
     "data": {
      "text/plain": [
       "9886.11712"
      ]
     },
     "execution_count": 15,
     "metadata": {},
     "output_type": "execute_result"
    }
   ],
   "source": [
    "highest_price"
   ]
  },
  {
   "cell_type": "code",
   "execution_count": 16,
   "metadata": {},
   "outputs": [
    {
     "data": {
      "text/plain": [
       "'Poloniex'"
      ]
     },
     "execution_count": 16,
     "metadata": {},
     "output_type": "execute_result"
    }
   ],
   "source": [
    "lowest_market"
   ]
  },
  {
   "cell_type": "code",
   "execution_count": 17,
   "metadata": {},
   "outputs": [
    {
     "data": {
      "text/plain": [
       "9169.99999999"
      ]
     },
     "execution_count": 17,
     "metadata": {},
     "output_type": "execute_result"
    }
   ],
   "source": [
    "lowest_price"
   ]
  },
  {
   "cell_type": "code",
   "execution_count": 18,
   "metadata": {},
   "outputs": [],
   "source": [
    "difference=np.float64(highest_price)-np.float64(lowest_price)   #IT WILL GIVE THE DIFFERENCE OR THE PROFIT"
   ]
  },
  {
   "cell_type": "code",
   "execution_count": 19,
   "metadata": {},
   "outputs": [
    {
     "data": {
      "text/plain": [
       "716.1171200100016"
      ]
     },
     "execution_count": 19,
     "metadata": {},
     "output_type": "execute_result"
    }
   ],
   "source": [
    "difference"
   ]
  },
  {
   "cell_type": "code",
   "execution_count": 20,
   "metadata": {},
   "outputs": [],
   "source": [
    "#    IT WILL BE GREAT TO DESIGN A FUNCTION FOR THE PROGRAM INSTEAD OF WRITING IT IN INDIVIDUAL CELLS\n",
    "#    SUMMING ALL THE ABOVE CODE IN THE ARBITRAGE FUNCTION"
   ]
  },
  {
   "cell_type": "code",
   "execution_count": 21,
   "metadata": {},
   "outputs": [
    {
     "name": "stdout",
     "output_type": "stream",
     "text": [
      "Enter Coin Symbol: neo\n"
     ]
    },
    {
     "data": {
      "image/png": "[encoded data removed]",
      "text/plain": [
       "<matplotlib.figure.Figure at 0xd16ddb0>"
      ]
     },
     "metadata": {},
     "output_type": "display_data"
    },
    {
     "name": "stdout",
     "output_type": "stream",
     "text": [
      "*You can buy NEO from Bittrex at 89.99899998 dollar\n",
      "*And can sell at Livecoin at 97.09999 dollar\n",
      "*And can get a profit of  7.100990020000012 at a percentage of 7.890076580382035\n"
     ]
    }
   ],
   "source": [
    "def Arbitrage_of_Coin():\n",
    "    coin_symbol=input(\"Enter Coin Symbol: \").lower()\n",
    "    \n",
    "    url_link=('https://api.cryptonator.com/api/full/{}-usd'.format(coin_symbol))\n",
    "    try:\n",
    "        markets=requests.get(url_link).json()['ticker']['markets']\n",
    "    except (KeyError,ValueError,TypeError):\n",
    "        print(\"Data Not not found\")\n",
    "        print('Enter Correct Symbol')\n",
    "        Arbitrage_of_Coin()\n",
    "    \n",
    "    data=pd.DataFrame(markets)\n",
    "    labels=np.array(data['market'].values)\n",
    "    prices=np.array((data['price']).values,dtype='float64')\n",
    "    volumes=np.array(data['volume'].values,dtype='float64')\n",
    "    plt.figure(num=None, figsize=(8, 6), dpi=100)\n",
    "    plt.scatter(prices,volumes)\n",
    "\n",
    "    for label,price,volume in zip(labels,prices,volumes):\n",
    "        plt.annotate(label,\n",
    "                    xy=(price,volume),\n",
    "                    xytext=(5,-5),\n",
    "                    textcoords='offset points',fontsize=10)\n",
    "    plt.xlabel('Price')\n",
    "    plt.ylabel('Volume')\n",
    "    plt.title('Arbitrage Chart For {}'.format(coin_symbol.upper()))\n",
    "    plt.show()\n",
    "    highest_price=np.max(prices)\n",
    "    lowest_price=np.min(prices)\n",
    "    highest_market=labels[np.argmax(prices)]\n",
    "    lowest_market=labels[np.argmin(prices)]\n",
    "    difference=np.float64(highest_price)-np.float64(lowest_price)\n",
    "    percentage=(difference/lowest_price)*100\n",
    "    print('*You can buy {} from {} at {} dollar'.format(coin_symbol.upper(),lowest_market,lowest_price))\n",
    "    print('*And can sell at {} at {} dollar'.format(highest_market,highest_price))\n",
    "    print('*And can get a profit of ',str(difference)+' at a percentage of',str(percentage))\n",
    "Arbitrage_of_Coin()"
   ]
  },
  {
   "cell_type": "code",
   "execution_count": null,
   "metadata": {},
   "outputs": [],
   "source": []
  },
  {
   "cell_type": "code",
   "execution_count": null,
   "metadata": {},
   "outputs": [],
   "source": []
  }
 ],
 "metadata": {
  "kernelspec": {
   "display_name": "Python 3",
   "language": "python",
   "name": "python3"
  },
  "language_info": {
   "codemirror_mode": {
    "name": "ipython",
    "version": 3
   },
   "file_extension": ".py",
   "mimetype": "text/x-python",
   "name": "python",
   "nbconvert_exporter": "python",
   "pygments_lexer": "ipython3",
   "version": "3.6.4"
  }
 },
 "nbformat": 4,
 "nbformat_minor": 2
}
